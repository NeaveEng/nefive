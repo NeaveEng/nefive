{
 "cells": [
  {
   "cell_type": "markdown",
   "metadata": {},
   "source": [
    "Import numpy to get things started"
   ]
  },
  {
   "cell_type": "code",
   "execution_count": 2,
   "metadata": {},
   "outputs": [],
   "source": [
    "import numpy as np"
   ]
  },
  {
   "cell_type": "markdown",
   "metadata": {},
   "source": [
    "Then define the dimensions of the robot"
   ]
  },
  {
   "cell_type": "code",
   "execution_count": 3,
   "metadata": {},
   "outputs": [],
   "source": [
    "WHEEL_RADIUS = 0.030\n",
    "TRACK_WIDTH  = 0.195 \n",
    "TRACK_LENGTH = 0.150\n",
    "\n",
    "# print(f\"Calculating wheel speeds for {wz}, {vx}, {vy}\")\n",
    "l = TRACK_LENGTH / 2\n",
    "w = TRACK_WIDTH / 2\n",
    "r = WHEEL_RADIUS\n"
   ]
  },
  {
   "cell_type": "markdown",
   "metadata": {},
   "source": [
    "Now lets define a couple of kinematic models to play with. `kinematic_model_0` is the one implemented as per The Construct's tutorial, it differs from the column order in the [paper](https://cdn.intechopen.com/pdfs/465/InTechOmnidirectional_mobile_robot_design_and_implementation.pdf) though. Let's play around with the ordering and see if the values come out the same."
   ]
  },
  {
   "cell_type": "code",
   "execution_count": 21,
   "metadata": {},
   "outputs": [],
   "source": [
    "# The kinematic model assumes that the motors are laid out as follows:\n",
    "#  [3]    [0]\n",
    "#     ---> x\n",
    "#  [2]    [1]\n",
    "#\n",
    "# NE-Five is wired up as follows:\n",
    "#  [2]    [1]\n",
    "#     ---> x\n",
    "#  [3]    [0]\n",
    "\n",
    "kinematic_model_0 = np.array([[-l-w, 1, -1],\n",
    "                              [ l+w, 1,  1],\n",
    "                              [ l+w, 1, -1],\n",
    "                              [-l-w, 1,  1]]) / r\n",
    "\n",
    "\n",
    "kinematic_model_1 = np.array([[-l-w, -1, 1],\n",
    "                              [ l+w,  1, 1],\n",
    "                              [ l+w, -1, 1],\n",
    "                              [-l-w,  1, 1]]) / r\n",
    "\n",
    "# From page 13: https://cdn.intechopen.com/pdfs/465/InTechOmnidirectional_mobile_robot_design_and_implementation.pdf\n",
    "def steering(kinematic_model, vx, vy, wz):\n",
    "    input_array = np.array([wz,vx,vy])    \n",
    "    input_array.shape = (3, 1)\n",
    "\n",
    "    u = np.dot(kinematic_model, input_array)\n",
    "    print(f\"u: {u}\")\n",
    "    \n",
    "    return [u[0][0],u[1][0],u[2][0],u[3][0]]"
   ]
  },
  {
   "cell_type": "code",
   "execution_count": 5,
   "metadata": {},
   "outputs": [
    {
     "name": "stdout",
     "output_type": "stream",
     "text": [
      "Wheel speeds for kinematic model 0: [array([7.24166667]), array([-0.575]), array([6.09166667]), array([0.575])]\n",
      "Wheel speeds for kinematic model 1: [array([7.24166667]), array([-0.575]), array([6.09166667]), array([0.575])]\n"
     ]
    }
   ],
   "source": [
    "wheel_speeds_0 = steering(kinematic_model_0, 0.1, 0.1, 0.1)\n",
    "wheel_speeds_1 = steering(kinematic_model_1, 0.1, 0.1, 0.1)\n",
    "\n",
    "print(f\"Wheel speeds for kinematic model 0: {wheel_speeds_0}\")\n",
    "print(f\"Wheel speeds for kinematic model 1: {wheel_speeds_1}\")"
   ]
  },
  {
   "cell_type": "markdown",
   "metadata": {},
   "source": [
    "So, the column order doesn't seem to matter! How about the row order as each row represents a different motor?"
   ]
  },
  {
   "cell_type": "code",
   "execution_count": 6,
   "metadata": {},
   "outputs": [
    {
     "name": "stdout",
     "output_type": "stream",
     "text": [
      "Wheel speeds for kinematic model 2: [array([-0.575]), array([7.24166667]), array([6.09166667]), array([0.575])]\n"
     ]
    }
   ],
   "source": [
    "kinematic_model_2 = np.array([[ l+w, 1,  1],\n",
    "                              [-l-w, 1, -1],\n",
    "                              [ l+w, 1, -1],\n",
    "                              [-l-w, 1,  1]]) / r\n",
    "\n",
    "wheel_speeds_1 = steering(kinematic_model_2, 0.1, 0.1, 0.1)\n",
    "print(f\"Wheel speeds for kinematic model 2: {wheel_speeds_1}\")"
   ]
  },
  {
   "cell_type": "markdown",
   "metadata": {},
   "source": [
    "Perfect! So, for the motor layout on NE-Five the array would be as follows:"
   ]
  },
  {
   "cell_type": "code",
   "execution_count": 28,
   "metadata": {},
   "outputs": [
    {
     "name": "stdout",
     "output_type": "stream",
     "text": [
      "inverse kinematic model: [[ 0.0075      0.0075      0.0075      0.0075    ]\n",
      " [-0.0075      0.0075      0.0075     -0.0075    ]\n",
      " [-0.04347826  0.04347826  0.04347826 -0.04347826]]\n",
      "u: [[33.33333333]\n",
      " [33.33333333]\n",
      " [33.33333333]\n",
      " [33.33333333]]\n",
      "input velocities: 1, 0, 0\n",
      "wheel speeds: [33.333333333333336, 33.333333333333336, 33.333333333333336, 33.333333333333336]\n",
      "input_array: [[33.33333333 33.33333333 33.33333333 33.33333333]], shape: (1, 4)\n"
     ]
    },
    {
     "ename": "ValueError",
     "evalue": "operands could not be broadcast together with shapes (3,4) (4,1) ",
     "output_type": "error",
     "traceback": [
      "\u001b[0;31m---------------------------------------------------------------------------\u001b[0m",
      "\u001b[0;31mValueError\u001b[0m                                Traceback (most recent call last)",
      "Cell \u001b[0;32mIn[28], line 31\u001b[0m\n\u001b[1;32m     29\u001b[0m \u001b[38;5;28mprint\u001b[39m(\u001b[38;5;124mf\u001b[39m\u001b[38;5;124m\"\u001b[39m\u001b[38;5;124minput_array: \u001b[39m\u001b[38;5;132;01m{\u001b[39;00minput_array\u001b[38;5;132;01m}\u001b[39;00m\u001b[38;5;124m, shape: \u001b[39m\u001b[38;5;132;01m{\u001b[39;00minput_array\u001b[38;5;241m.\u001b[39mshape\u001b[38;5;132;01m}\u001b[39;00m\u001b[38;5;124m\"\u001b[39m)\n\u001b[1;32m     30\u001b[0m input_array\u001b[38;5;241m.\u001b[39mshape \u001b[38;5;241m=\u001b[39m (\u001b[38;5;241m4\u001b[39m, \u001b[38;5;241m1\u001b[39m)\n\u001b[0;32m---> 31\u001b[0m velocities \u001b[38;5;241m=\u001b[39m \u001b[43mnp\u001b[49m\u001b[38;5;241;43m.\u001b[39;49m\u001b[43mmultiply\u001b[49m\u001b[43m(\u001b[49m\u001b[43mikm_actual\u001b[49m\u001b[43m,\u001b[49m\u001b[43m \u001b[49m\u001b[43minput_array\u001b[49m\u001b[43m)\u001b[49m\n\u001b[1;32m     32\u001b[0m \u001b[38;5;28mprint\u001b[39m(\u001b[38;5;124mf\u001b[39m\u001b[38;5;124m\"\u001b[39m\u001b[38;5;124mvelocities: \u001b[39m\u001b[38;5;132;01m{\u001b[39;00mvelocities\u001b[38;5;132;01m}\u001b[39;00m\u001b[38;5;124m\"\u001b[39m)\n",
      "\u001b[0;31mValueError\u001b[0m: operands could not be broadcast together with shapes (3,4) (4,1) "
     ]
    }
   ],
   "source": [
    "\n",
    "\n",
    "front_left  = [-l-w, 1, -1]\n",
    "front_right = [ l+w, 1,  1]\n",
    "rear_left   = [-l-w, 1,  1]\n",
    "rear_right  = [ l+w, 1, -1]\n",
    "\n",
    "top    = [ 1,  1,  1,  1]\n",
    "middle = [-1,  1,  1, -1]\n",
    "bottom = [1/(-l-w), 1/(l+w), 1/(l+w), 1/(-l-w)]\n",
    "\n",
    "forward_kinematic_model = np.array([front_left, \n",
    "                                    front_right,\n",
    "                                    rear_left,\n",
    "                                    rear_right])\n",
    "\n",
    "fkm_actual = np.multiply(forward_kinematic_model, 1/r)\n",
    "\n",
    "ikm = np.array([top, middle, bottom])\n",
    "ikm_actual = np.multiply(ikm, r/4)\n",
    "\n",
    "print(f\"inverse kinematic model: {ikm_actual}\")\n",
    "\n",
    "x, y, z = 1, 0, 0\n",
    "\n",
    "wheel_speeds_ne5 = steering(fkm_actual, x, y, z)\n",
    "print(f\"input velocities: {x}, {y}, {z}\")\n",
    "print(f\"wheel speeds: {wheel_speeds_ne5}\")\n",
    "\n",
    "input_array = np.array([[wheel_speeds_ne5[0], wheel_speeds_ne5[1], wheel_speeds_ne5[2], wheel_speeds_ne5[3]]])\n",
    "print(f\"input_array: {input_array}, shape: {input_array.shape}\")\n",
    "input_array.shape = (4, 1)\n",
    "velocities = np.multiply(ikm_actual, input_array)\n",
    "print(f\"velocities: {velocities}\")"
   ]
  }
 ],
 "metadata": {
  "kernelspec": {
   "display_name": "Python 3",
   "language": "python",
   "name": "python3"
  },
  "language_info": {
   "codemirror_mode": {
    "name": "ipython",
    "version": 3
   },
   "file_extension": ".py",
   "mimetype": "text/x-python",
   "name": "python",
   "nbconvert_exporter": "python",
   "pygments_lexer": "ipython3",
   "version": "3.9.0"
  }
 },
 "nbformat": 4,
 "nbformat_minor": 2
}
