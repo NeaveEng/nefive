{
 "cells": [
  {
   "cell_type": "markdown",
   "metadata": {},
   "source": [
    "Let's unfuck this shall we."
   ]
  },
  {
   "cell_type": "code",
   "execution_count": 71,
   "metadata": {},
   "outputs": [],
   "source": [
    "from umatrix import *\n",
    "\n",
    "class Kinematics:\n",
    "    WHEEL_RADIUS = 0.030\n",
    "    TRACK_WIDTH  = 0.188 \n",
    "    TRACK_LENGTH = 0.147\n",
    "\n",
    "    l = TRACK_LENGTH / 2\n",
    "    w = TRACK_WIDTH  / 2\n",
    "    r = WHEEL_RADIUS\n",
    "\n",
    "    # The kinematic model assumes that the motors are laid out as follows:\n",
    "    #  [3]     [1]\n",
    "    #     ---> x\n",
    "    #  [4]     [2]\n",
    "\n",
    "    k_const = (l+w)\n",
    "    kinematic_model = matrix(\n",
    "        [ 1,  1, -k_const], \n",
    "        [ 1, -1,  k_const], \n",
    "        [ 1, -1, -k_const], \n",
    "        [ 1,  1,  k_const]) * (1/r)\n",
    "    \n",
    "    inverse_kinematic_model = matrix(\n",
    "        [          1,           1,             1,           1],\n",
    "        [          1,          -1,            -1,           1],\n",
    "        [-(1/k_const), (1/k_const),  -(1/k_const), (1/k_const)]) * (r/4)\n",
    "\n",
    "\n",
    "    def motor_speeds(self, vx, vy, wz):\n",
    "        input_array = matrix([vx],[vy],[wz])    \n",
    "        return self.kinematic_model * input_array\n",
    "\n",
    "\n",
    "    def velocities(self, speeds):     \n",
    "        return self.inverse_kinematic_model * speeds\n",
    "        \n",
    "        \n",
    "    def odometry(self, velocities, duration):    \n",
    "        u = self.inverse_kinematic_model * velocities    \n",
    "        return u * duration   \n",
    "        "
   ]
  },
  {
   "cell_type": "code",
   "execution_count": 85,
   "metadata": {},
   "outputs": [
    {
     "name": "stdout",
     "output_type": "stream",
     "text": [
      "speeds: [33.333333333333336,\n",
      " 33.333333333333336,\n",
      " 33.333333333333336,\n",
      " 33.333333333333336], time: 0.000166482ms\n",
      "velos: [1.0,\n",
      " 0.0,\n",
      " 0.0], time: 0.000133371ms\n",
      "odom: [2.7e-05,\n",
      "     0.0,\n",
      "     0.0], time: 0.000147167ms\n"
     ]
    }
   ],
   "source": [
    "import time \n",
    "\n",
    "kn = Kinematics()\n",
    "\n",
    "duration = 0.000027\n",
    "\n",
    "speed_time = time.time_ns()\n",
    "\n",
    "speeds = kn.motor_speeds(1, 0, 0)\n",
    "speed_time = time.time_ns() - speed_time\n",
    "print(f\"speeds: {speeds}, time: {speed_time/ 1000000000}ms\")\n",
    "\n",
    "# print(speeds[0])\n",
    "velo_times = time.time_ns()\n",
    "velos = kn.velocities(speeds)\n",
    "velo_times = time.time_ns() - velo_times\n",
    "print(f\"velos: {velos}, time: {velo_times/ 1000000000}ms\")\n",
    "\n",
    "\n",
    "one_ms = 1 / 1000\n",
    "one_us = 1 / 1000000\n",
    "\n",
    "motor_speeds = matrix([8.181559], [8.63254], [8.123714], [8.055882])\n",
    "odom_time = time.time_ns()\n",
    "# odom = kn.odometry(motor_speeds, 0.000027)\n",
    "odom = kn.odometry(speeds, 0.000027)\n",
    "odom_time = time.time_ns() - odom_time\n",
    "print(f\"odom: {odom}, time: {odom_time / 1000000000}ms\")"
   ]
  }
 ],
 "metadata": {
  "kernelspec": {
   "display_name": "ros_noetic",
   "language": "python",
   "name": "python3"
  },
  "language_info": {
   "codemirror_mode": {
    "name": "ipython",
    "version": 3
   },
   "file_extension": ".py",
   "mimetype": "text/x-python",
   "name": "python",
   "nbconvert_exporter": "python",
   "pygments_lexer": "ipython3",
   "version": "3.9.18"
  }
 },
 "nbformat": 4,
 "nbformat_minor": 2
}
