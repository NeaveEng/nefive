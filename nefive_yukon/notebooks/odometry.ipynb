{
 "cells": [
  {
   "cell_type": "markdown",
   "metadata": {},
   "source": [
    "Playing around with odometry. We won't have numpy on the Yukon but will prototype with it, then reproduce in pure python to put on the mcu."
   ]
  },
  {
   "cell_type": "code",
   "execution_count": 6,
   "metadata": {},
   "outputs": [
    {
     "name": "stdout",
     "output_type": "stream",
     "text": [
      "[0 1 0]\n",
      "[[ -5.75        33.33333333  33.33333333]\n",
      " [  5.75        33.33333333 -33.33333333]\n",
      " [ -5.75        33.33333333 -33.33333333]\n",
      " [  5.75        33.33333333  33.33333333]]\n",
      "[ 0 -1  0]\n",
      "[[ -5.75        33.33333333  33.33333333]\n",
      " [  5.75        33.33333333 -33.33333333]\n",
      " [ -5.75        33.33333333 -33.33333333]\n",
      " [  5.75        33.33333333  33.33333333]]\n",
      "[ 0  0 -1]\n",
      "[[ -5.75        33.33333333  33.33333333]\n",
      " [  5.75        33.33333333 -33.33333333]\n",
      " [ -5.75        33.33333333 -33.33333333]\n",
      " [  5.75        33.33333333  33.33333333]]\n",
      "[0 0 1]\n",
      "[[ -5.75        33.33333333  33.33333333]\n",
      " [  5.75        33.33333333 -33.33333333]\n",
      " [ -5.75        33.33333333 -33.33333333]\n",
      " [  5.75        33.33333333  33.33333333]]\n",
      "[1 0 0]\n",
      "[[ -5.75        33.33333333  33.33333333]\n",
      " [  5.75        33.33333333 -33.33333333]\n",
      " [ -5.75        33.33333333 -33.33333333]\n",
      " [  5.75        33.33333333  33.33333333]]\n",
      "[-1  0  0]\n",
      "[[ -5.75        33.33333333  33.33333333]\n",
      " [  5.75        33.33333333 -33.33333333]\n",
      " [ -5.75        33.33333333 -33.33333333]\n",
      " [  5.75        33.33333333  33.33333333]]\n",
      "[ 3.52  1.76 -0.67]\n",
      "[[ -5.75        33.33333333  33.33333333]\n",
      " [  5.75        33.33333333 -33.33333333]\n",
      " [ -5.75        33.33333333 -33.33333333]\n",
      " [  5.75        33.33333333  33.33333333]]\n",
      "[[-0.         33.33333333  0.        ]\n",
      " [ 0.         33.33333333 -0.        ]\n",
      " [-0.         33.33333333 -0.        ]\n",
      " [ 0.         33.33333333  0.        ]]\n"
     ]
    }
   ],
   "source": [
    "import numpy as np\n",
    "\n",
    "\n",
    "WHEEL_RADIUS = 0.030\n",
    "TRACK_WIDTH  = 0.195 \n",
    "TRACK_LENGTH = 0.150\n",
    "\n",
    "l = TRACK_LENGTH / 2\n",
    "w = TRACK_WIDTH / 2\n",
    "r = WHEEL_RADIUS\n",
    "\n",
    "fwk_front_left  = [-l-w, 1,  1]\n",
    "fwk_front_right = [ l+w, 1, -1]\n",
    "fwk_rear_left   = [-l-w, 1, -1]\n",
    "fwk_rear_right  = [ l+w, 1,  1]\n",
    "\n",
    "ik_const = (l+w)\n",
    "\n",
    "# ik_front_left  = -ik_const\n",
    "# ik_front_right =  ik_const\n",
    "# ik_rear_left   = -ik_const\n",
    "# ik_rear_right  =  ik_const\n",
    "\n",
    "kinematic_model = np.array([fwk_front_left, \n",
    "                            fwk_front_right,\n",
    "                            fwk_rear_left,\n",
    "                            fwk_rear_right])\n",
    "\n",
    "forward_kinematic_model = np.multiply(kinematic_model, 1/r)\n",
    "\n",
    "odom_model = np.array([[ 1,  1,  1,  1],\n",
    "                       [ 1, -1, -1, 1],\n",
    "                       [-ik_const,  ik_const,  -ik_const, ik_const]])\n",
    "\n",
    "\n",
    "inverse_kinematic_model = np.multiply(odom_model, r/4) \n",
    "\n",
    "def calc_motor_speeds(vx, vy, wz):\n",
    "    input_array = np.array([wz,vx,vy])    \n",
    "    input_array.reshape(3, 1)\n",
    "    print(input_array)\n",
    "    print(forward_kinematic_model)\n",
    "    u = np.multiply(forward_kinematic_model, input_array)\n",
    "    return u\n",
    "\n",
    "forward_wheel_speeds = calc_motor_speeds(1, 0, 0)\n",
    "backward_wheel_speeds = calc_motor_speeds(-1, 0, 0)\n",
    "left_wheel_speeds = calc_motor_speeds(0, -1, 0)\n",
    "right_wheel_speeds = calc_motor_speeds(0, 1, 0)\n",
    "left_rotate_wheel_speeds = calc_motor_speeds(0, 0, 1)\n",
    "right_rotate_wheel_speeds = calc_motor_speeds(0, 0, -1)\n",
    "random_wheel_speeds = calc_motor_speeds(1.76, -0.67, 3.52)\n",
    "\n",
    "print(forward_wheel_speeds)"
   ]
  },
  {
   "cell_type": "markdown",
   "metadata": {},
   "source": [
    "For the inverse kinematic model, is it just reshaping the array and dividing the bottom row by 1?"
   ]
  },
  {
   "cell_type": "code",
   "execution_count": 7,
   "metadata": {},
   "outputs": [
    {
     "name": "stdout",
     "output_type": "stream",
     "text": [
      "Forward Kinematic Array:\n",
      " [[-0.1725  1.      1.    ]\n",
      " [ 0.1725  1.     -1.    ]\n",
      " [-0.1725  1.     -1.    ]\n",
      " [ 0.1725  1.      1.    ]]\n",
      "Odom Model Array:\n",
      " [[ 1.      1.      1.      1.    ]\n",
      " [ 1.     -1.     -1.      1.    ]\n",
      " [-0.1725  0.1725 -0.1725  0.1725]]\n"
     ]
    }
   ],
   "source": [
    "print(f\"Forward Kinematic Array:\\n {kinematic_model}\")\n",
    "print(f\"Odom Model Array:\\n {odom_model}\")"
   ]
  },
  {
   "cell_type": "markdown",
   "metadata": {},
   "source": [
    "No, but it looks like it may be before they're adjusted by /r or r/4..."
   ]
  },
  {
   "cell_type": "code",
   "execution_count": 8,
   "metadata": {},
   "outputs": [
    {
     "name": "stdout",
     "output_type": "stream",
     "text": [
      "Kinematic Array:\n",
      " [[-0.1725  1.      1.    ]\n",
      " [ 0.1725  1.     -1.    ]\n",
      " [-0.1725  1.     -1.    ]\n",
      " [ 0.1725  1.      1.    ]]\n",
      "Odom Model Array:\n",
      " [[ 1.      1.      1.      1.    ]\n",
      " [ 1.     -1.     -1.      1.    ]\n",
      " [-0.1725  0.1725 -0.1725  0.1725]]\n"
     ]
    }
   ],
   "source": [
    "print(f\"Kinematic Array:\\n {kinematic_model}\")\n",
    "print(f\"Odom Model Array:\\n {odom_model}\")"
   ]
  },
  {
   "cell_type": "code",
   "execution_count": 9,
   "metadata": {},
   "outputs": [
    {
     "name": "stdout",
     "output_type": "stream",
     "text": [
      "[[  0. 133.   0.]\n",
      " [  0.   0.   0.]\n",
      " [  0.  -0.   0.]]\n",
      "[[   0. -133.    0.]\n",
      " [   0.    0.    0.]\n",
      " [   0.    0.    0.]]\n",
      "[[   0.        0.        0.    ]\n",
      " [   0.        0.     -133.3333]\n",
      " [   0.        0.        0.    ]]\n",
      "[[  0.       0.       0.    ]\n",
      " [  0.       0.     133.3333]\n",
      " [  0.       0.      -0.    ]]\n",
      "[[0.     0.     0.    ]\n",
      " [0.     0.     0.    ]\n",
      " [3.9675 0.     0.    ]]\n",
      "[[ 0.      0.      0.    ]\n",
      " [ 0.      0.      0.    ]\n",
      " [-3.9675  0.      0.    ]]\n",
      "[[  0.     234.6667   0.    ]\n",
      " [  0.       0.     -89.3333]\n",
      " [ 13.9656   0.      -0.    ]]\n"
     ]
    }
   ],
   "source": [
    "forward_velocities = np.dot(odom_model, forward_wheel_speeds)\n",
    "backward_velocities = np.dot(odom_model, backward_wheel_speeds)\n",
    "left_velocities = np.dot(odom_model, left_wheel_speeds)\n",
    "right_velocities = np.dot(odom_model, right_wheel_speeds)\n",
    "left_rotate_velocities = np.dot(odom_model, left_rotate_wheel_speeds)\n",
    "right_rotate_velocities = np.dot(odom_model, right_rotate_wheel_speeds)\n",
    "random_velocities = np.dot(odom_model, random_wheel_speeds)\n",
    "print(np.round(forward_velocities))\n",
    "print(np.round(backward_velocities))\n",
    "print(np.round(left_velocities, 4))\n",
    "print(np.round(right_velocities, 4))\n",
    "print(np.round(left_rotate_velocities, 4))\n",
    "print(np.round(right_rotate_velocities, 4))\n",
    "print(np.round(random_velocities, 4))"
   ]
  },
  {
   "cell_type": "code",
   "execution_count": 10,
   "metadata": {},
   "outputs": [
    {
     "name": "stdout",
     "output_type": "stream",
     "text": [
      "IKM: [[ 0.0075      0.0075      0.0075      0.0075    ]\n",
      " [ 0.0075     -0.0075     -0.0075      0.0075    ]\n",
      " [-0.00129375  0.00129375 -0.00129375  0.00129375]]\n",
      "RWS: [[-20.24        58.66666667 -22.33333333]\n",
      " [ 20.24        58.66666667  22.33333333]\n",
      " [-20.24        58.66666667  22.33333333]\n",
      " [ 20.24        58.66666667 -22.33333333]]\n"
     ]
    },
    {
     "ename": "ValueError",
     "evalue": "operands could not be broadcast together with shapes (3,4) (4,3) ",
     "output_type": "error",
     "traceback": [
      "\u001b[0;31m---------------------------------------------------------------------------\u001b[0m",
      "\u001b[0;31mValueError\u001b[0m                                Traceback (most recent call last)",
      "Cell \u001b[0;32mIn[10], line 22\u001b[0m\n\u001b[1;32m     20\u001b[0m \u001b[38;5;28mprint\u001b[39m(\u001b[38;5;124mf\u001b[39m\u001b[38;5;124m\"\u001b[39m\u001b[38;5;124mRWS: \u001b[39m\u001b[38;5;132;01m{\u001b[39;00mrandom_wheel_speeds\u001b[38;5;132;01m}\u001b[39;00m\u001b[38;5;124m\"\u001b[39m)\n\u001b[1;32m     21\u001b[0m dot_time \u001b[38;5;241m=\u001b[39m time\u001b[38;5;241m.\u001b[39mtime_ns()\n\u001b[0;32m---> 22\u001b[0m random_dot_product \u001b[38;5;241m=\u001b[39m \u001b[43mnp\u001b[49m\u001b[38;5;241;43m.\u001b[39;49m\u001b[43mmultiply\u001b[49m\u001b[43m(\u001b[49m\u001b[43minverse_kinematic_model\u001b[49m\u001b[43m,\u001b[49m\u001b[43m \u001b[49m\u001b[43mrandom_wheel_speeds\u001b[49m\u001b[43m)\u001b[49m\n\u001b[1;32m     23\u001b[0m dot_time \u001b[38;5;241m=\u001b[39m time\u001b[38;5;241m.\u001b[39mtime_ns() \u001b[38;5;241m-\u001b[39m dot_time\n\u001b[1;32m     25\u001b[0m mtx_time \u001b[38;5;241m=\u001b[39m time\u001b[38;5;241m.\u001b[39mtime_ns()\n",
      "\u001b[0;31mValueError\u001b[0m: operands could not be broadcast together with shapes (3,4) (4,3) "
     ]
    }
   ],
   "source": [
    "import array \n",
    "import mtx\n",
    "import time\n",
    "\n",
    "def matrix_multiply(a, b):\n",
    "    result = [[0 for _ in range(len(b[0]))] for _ in range(len(a))]\n",
    "\n",
    "    for i in range(len(a)):\n",
    "        for j in range(len(b[0])):\n",
    "            for k in range(len(b)):\n",
    "                result[i][j] += a[i][k] * b[k][j]\n",
    "\n",
    "    return result\n",
    "\n",
    "odom_model_nnp = [array.array('f', [ 0.0075,      0.0075,      0.0075,      0.0075]),\n",
    "                  array.array('f', [ 0.0075,     -0.0075,     -0.0075,      0.0075]),\n",
    "                  array.array('f', [-0.04347826,  0.04347826, -0.04347826,  0.04347826])]\n",
    "\n",
    "print(f\"IKM: {inverse_kinematic_model}\")\n",
    "print(f\"RWS: {random_wheel_speeds}\")\n",
    "dot_time = time.time_ns()\n",
    "random_dot_product = np.multiply(inverse_kinematic_model, random_wheel_speeds)\n",
    "dot_time = time.time_ns() - dot_time\n",
    "\n",
    "mtx_time = time.time_ns()\n",
    "mtx_mulled = mtx.mul(inverse_kinematic_model, random_wheel_speeds)\n",
    "mtx_time = time.time_ns() - mtx_time\n",
    "\n",
    "#print(f\"{random_velocities})\n",
    "print(f\"multiply: {random_dot_product}\")\n",
    "print(f\"mtx: {mtx_mulled}\")\n",
    "print(f\"dot time: {dot_time/1000000}ms, mtx time: {mtx_time/1000000}ms\")\n",
    "#print(odom_model)"
   ]
  },
  {
   "cell_type": "markdown",
   "metadata": {},
   "source": [
    "MTX is twice as slow so we'll go with the simple function. To calulate distance and rotation from a start point, we need to take the speed of the wheels with a duration and multiply it by the odom model to get the velocities and angular momentum.\n"
   ]
  },
  {
   "cell_type": "code",
   "execution_count": 11,
   "metadata": {},
   "outputs": [],
   "source": [
    "# Take motor speeds and a duration, return the distance traveled and change in rotation\n",
    "# SI Units used so meters and radians will be returned\n",
    "def calc_distances(motor_speeds, duration):\n",
    "    velocities = matrix_multiply(odom_model, motor_speeds)\n",
    "    return velocities[0][0] * duration, velocities[1][0], velocities[2][0] * duration"
   ]
  },
  {
   "cell_type": "markdown",
   "metadata": {},
   "source": [
    "So, if we want to go forward for one second at 1m/s:"
   ]
  },
  {
   "cell_type": "code",
   "execution_count": 12,
   "metadata": {},
   "outputs": [
    {
     "name": "stdout",
     "output_type": "stream",
     "text": [
      "[0 1 0]\n",
      "[[ -5.75        33.33333333  33.33333333]\n",
      " [  5.75        33.33333333 -33.33333333]\n",
      " [ -5.75        33.33333333 -33.33333333]\n",
      " [  5.75        33.33333333  33.33333333]]\n",
      "Motor Speeds: [[-0.         33.33333333  0.        ]\n",
      " [ 0.         33.33333333 -0.        ]\n",
      " [-0.         33.33333333 -0.        ]\n",
      " [ 0.         33.33333333  0.        ]]\n",
      "Odom: (0.0, 0.0, 0.0)\n"
     ]
    }
   ],
   "source": [
    "forward_motor_speeds = calc_motor_speeds(1, 0, 0)\n",
    "print(f\"Motor Speeds: {forward_motor_speeds}\")\n",
    "\n",
    "odom = calc_distances(forward_motor_speeds, 2)\n",
    "print(f\"Odom: {odom}\")"
   ]
  },
  {
   "cell_type": "markdown",
   "metadata": {},
   "source": [
    "So, to invert the forward kinematic array we need to create a new one and invert a few values. \n",
    "\n",
    "Where for the forward kinematic we have:\n",
    "\n",
    "```\n",
    "-l-w,   1,  1\n",
    " l+w,   1, -1\n",
    "-l-w,   1, -1\n",
    " l+w,   1,  1\n",
    "```\n",
    "\n",
    "We need to reshape it and calculate the reciprical of a few values\n",
    "```\n",
    "1,          -1,         -1,          1\n",
    "1,           1,          1,          1\n",
    "1/(-l-w)     1/(l+w)     1/(-l-w)    1/(l+w)\n",
    "```"
   ]
  },
  {
   "cell_type": "code",
   "execution_count": null,
   "metadata": {},
   "outputs": [
    {
     "name": "stdout",
     "output_type": "stream",
     "text": [
      "[[ -5.75        33.33333333  33.33333333]\n",
      " [  5.75        33.33333333 -33.33333333]\n",
      " [ -5.75        33.33333333 -33.33333333]\n",
      " [  5.75        33.33333333  33.33333333]]\n",
      "[array('f', [-5.75, 33.33333206176758, 33.33333206176758]), array('f', [5.75, 33.33333206176758, -33.33333206176758]), array('f', [-5.75, 33.33333206176758, -33.33333206176758]), array('f', [5.75, 33.33333206176758, 33.33333206176758])]\n",
      "[[ 0.0075      0.0075      0.0075      0.0075    ]\n",
      " [ 0.0075     -0.0075     -0.0075      0.0075    ]\n",
      " [-0.00129375  0.00129375 -0.00129375  0.00129375]]\n",
      "[array('f', [0.007499999832361937, 0.007499999832361937, 0.007499999832361937, 0.007499999832361937]), array('f', [0.007499999832361937, -0.007499999832361937, -0.007499999832361937, 0.007499999832361937]), array('f', [-0.043478261679410934, 0.043478261679410934, -0.043478261679410934, 0.043478261679410934])]\n"
     ]
    }
   ],
   "source": [
    "# This works on a shallow copy of A so the original is modified\n",
    "def matrix_scalar(a, b):\n",
    "    for i in range(len(a)):\n",
    "        for j in range(len(a[0])):\n",
    "               a[i][j] = a[i][j] * b\n",
    "\n",
    "\n",
    "WHEEL_RADIUS = 0.030\n",
    "TRACK_WIDTH  = 0.195 \n",
    "TRACK_LENGTH = 0.150\n",
    "\n",
    "l = TRACK_LENGTH / 2\n",
    "w = TRACK_WIDTH / 2\n",
    "r = WHEEL_RADIUS\n",
    "\n",
    "fwk_front_left  = array.array('f', [-l-w, 1,  1])\n",
    "fwk_front_right = array.array('f', [ l+w, 1, -1])\n",
    "fwk_rear_left   = array.array('f', [-l-w, 1, -1])\n",
    "fwk_rear_right  = array.array('f', [ l+w, 1,  1])\n",
    "\n",
    "fkm = [fwk_front_left, \n",
    "       fwk_front_right,\n",
    "       fwk_rear_left,\n",
    "       fwk_rear_right] \n",
    "\n",
    "ikm = [array.array('f', [  fkm[0][1],   fkm[1][1],   fkm[2][1],   fkm[3][1]]),\n",
    "       array.array('f', [  fkm[0][2],   fkm[1][2],   fkm[2][2],   fkm[3][2]]),\n",
    "       array.array('f', [1/fkm[0][0], 1/fkm[1][0], 1/fkm[2][0], 1/fkm[3][0]])]\n",
    "\n",
    "matrix_scalar(fkm, 1/r)\n",
    "matrix_scalar(ikm, r/4)\n",
    "\n",
    "print(forward_kinematic_model)\n",
    "print(fkm)\n",
    "\n",
    "print(inverse_kinematic_model)\n",
    "print(ikm)\n",
    "\n"
   ]
  },
  {
   "cell_type": "markdown",
   "metadata": {},
   "source": [
    "```\n",
    "\n",
    "-0.172, 1.0, -1.0\n",
    " 0.172, 2.0, -2.0\n",
    "-0.172, 3.0, -3.0\n",
    " 0.172, 4.0, -4.0\n",
    "\n",
    " 1.0, 2.0, 3.0, 4.0\n",
    "-1.0, -2.0, -3.0, -4.0\n",
    "-0.172, 0.172, -0.172, 0.172\n",
    "\n",
    "```"
   ]
  },
  {
   "cell_type": "code",
   "execution_count": null,
   "metadata": {},
   "outputs": [
    {
     "ename": "NameError",
     "evalue": "name 'forward_kinematic_model' is not defined",
     "output_type": "error",
     "traceback": [
      "\u001b[0;31m---------------------------------------------------------------------------\u001b[0m",
      "\u001b[0;31mNameError\u001b[0m                                 Traceback (most recent call last)",
      "Cell \u001b[0;32mIn[1], line 3\u001b[0m\n\u001b[1;32m      1\u001b[0m \u001b[38;5;28;01mimport\u001b[39;00m \u001b[38;5;21;01mnumpy\u001b[39;00m \u001b[38;5;28;01mas\u001b[39;00m \u001b[38;5;21;01mnp\u001b[39;00m\n\u001b[0;32m----> 3\u001b[0m \u001b[38;5;28mprint\u001b[39m(\u001b[43mforward_kinematic_model\u001b[49m)\n\u001b[1;32m      5\u001b[0m \u001b[38;5;28;01mdef\u001b[39;00m \u001b[38;5;21mcalc_motor_speeds\u001b[39m(vx, vy, wz):\n\u001b[1;32m      6\u001b[0m     input_array \u001b[38;5;241m=\u001b[39m np\u001b[38;5;241m.\u001b[39marray([wz,vx,vy])    \n",
      "\u001b[0;31mNameError\u001b[0m: name 'forward_kinematic_model' is not defined"
     ]
    }
   ],
   "source": [
    "import numpy as np\n",
    "\n",
    "print(forward_kinematic_model)\n",
    "\n",
    "def calc_motor_speeds(vx, vy, wz):\n",
    "    input_array = np.array([wz,vx,vy])    \n",
    "    input_array.shape = (3, 1)\n",
    "    u = np.multiply(forward_kinematic_model, input_array)\n",
    "    return u\n",
    "\n",
    "speeds = calc_motor_speeds(0, 1, 0)\n",
    "print(speeds)\n"
   ]
  }
 ],
 "metadata": {
  "kernelspec": {
   "display_name": "ros_noetic",
   "language": "python",
   "name": "python3"
  },
  "language_info": {
   "codemirror_mode": {
    "name": "ipython",
    "version": 3
   },
   "file_extension": ".py",
   "mimetype": "text/x-python",
   "name": "python",
   "nbconvert_exporter": "python",
   "pygments_lexer": "ipython3",
   "version": "3.9.0"
  }
 },
 "nbformat": 4,
 "nbformat_minor": 2
}
